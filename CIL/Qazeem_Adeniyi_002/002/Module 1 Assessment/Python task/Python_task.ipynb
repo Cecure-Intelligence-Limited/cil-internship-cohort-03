{
 "cells": [
  {
   "cell_type": "code",
   "execution_count": 1,
   "id": "5671a0dd",
   "metadata": {},
   "outputs": [],
   "source": [
    "from PIL import Image\n",
    "import shutil\n",
    "import os\n"
   ]
  },
  {
   "cell_type": "code",
   "execution_count": 2,
   "id": "4eff9447",
   "metadata": {},
   "outputs": [],
   "source": [
    "def imagecopyandresize(imagepath1, imagepath2):\n",
    "\n",
    "    #Copying the image file from a location to another \n",
    "    original= imagepath1\n",
    "    target= imagepath2\n",
    "    imgcopy=shutil.copyfile(original, target)\n",
    "    \n",
    "    #opening the image \n",
    "    img = Image.open(imgcopy)\n",
    "    \n",
    "    # Get size\n",
    "    x, y = img.size\n",
    "    # resize\n",
    "    x = int(input('Enter height here: '))\n",
    "    y = int(input('Enter breadth here: '))\n",
    "    result= img.resize((x,y))\n",
    "    return result\n",
    "   "
   ]
  },
  {
   "cell_type": "code",
   "execution_count": null,
   "id": "879ff51b",
   "metadata": {},
   "outputs": [],
   "source": []
  }
 ],
 "metadata": {
  "kernelspec": {
   "display_name": "Python 3",
   "language": "python",
   "name": "python3"
  },
  "language_info": {
   "codemirror_mode": {
    "name": "ipython",
    "version": 3
   },
   "file_extension": ".py",
   "mimetype": "text/x-python",
   "name": "python",
   "nbconvert_exporter": "python",
   "pygments_lexer": "ipython3",
   "version": "3.8.8"
  }
 },
 "nbformat": 4,
 "nbformat_minor": 5
}
